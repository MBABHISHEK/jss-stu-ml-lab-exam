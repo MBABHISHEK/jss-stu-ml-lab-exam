{
  "nbformat": 4,
  "nbformat_minor": 0,
  "metadata": {
    "colab": {
      "provenance": [],
      "authorship_tag": "ABX9TyM3AverapP9LlC65agAeiaQ",
      "include_colab_link": true
    },
    "kernelspec": {
      "name": "python3",
      "display_name": "Python 3"
    },
    "language_info": {
      "name": "python"
    }
  },
  "cells": [
    {
      "cell_type": "markdown",
      "metadata": {
        "id": "view-in-github",
        "colab_type": "text"
      },
      "source": [
        "<a href=\"https://colab.research.google.com/github/MBABHISHEK/jss-stu-ml-lab-exam/blob/main/12/MLP.ipynb\" target=\"_parent\"><img src=\"https://colab.research.google.com/assets/colab-badge.svg\" alt=\"Open In Colab\"/></a>"
      ]
    },
    {
      "cell_type": "markdown",
      "source": [
        "# Multi Layer Perceptron"
      ],
      "metadata": {
        "id": "WaUO1t4wyHwo"
      }
    },
    {
      "cell_type": "code",
      "source": [
        "import numpy as np\n",
        "from keras.models import Sequential\n",
        "from keras.layers import Dense\n",
        "from keras.optimizers import Adam\n",
        "import warnings\n",
        "warnings.filterwarnings(\"ignore\", category=UserWarning, module='keras')\n",
        "\n",
        "# AND-NOT function training data\n",
        "and_not_inputs = np.array([[0, 0], [0, 1], [1, 0], [1, 1]])\n",
        "and_not_labels = np.array([0, 0, 1, 0])\n",
        "\n",
        "# XOR function training data\n",
        "xor_inputs = np.array([[0, 0], [0, 1], [1, 0], [1, 1]])\n",
        "xor_labels = np.array([0, 1, 1, 0])\n",
        "\n",
        "# Function to create and train a model\n",
        "def create_and_train_model(inputs, labels, epochs=1000, hidden_neurons=4, learning_rate=0.01):\n",
        "    model = Sequential([\n",
        "        Dense(hidden_neurons, input_dim=2, activation='relu'),  # Hidden layer with more neurons\n",
        "        Dense(1, activation='sigmoid')  # Output layer\n",
        "    ])\n",
        "    optimizer = Adam(learning_rate=learning_rate)\n",
        "    model.compile(loss='binary_crossentropy', optimizer=optimizer, metrics=['accuracy'])\n",
        "    model.fit(inputs, labels, epochs=epochs, verbose=0)\n",
        "    return model\n",
        "\n",
        "# Train the AND-NOT model\n",
        "and_not_model = create_and_train_model(and_not_inputs, and_not_labels)\n",
        "\n",
        "# Train the XOR model with increased complexity\n",
        "xor_model = create_and_train_model(xor_inputs, xor_labels, hidden_neurons=4)\n",
        "\n",
        "# Function to test the model with specific inputs\n",
        "def test_model(model, inputs):\n",
        "    predictions = model.predict(inputs)\n",
        "    predictions = [round(pred[0]) for pred in predictions]\n",
        "    return predictions\n",
        "\n",
        "# Test the models with training data\n",
        "print(\"AND-NOT Model Predictions on training data:\")\n",
        "print(test_model(and_not_model, and_not_inputs))\n",
        "\n",
        "print(\"\\nXOR Model Predictions on training data:\")\n",
        "print(test_model(xor_model, xor_inputs))\n",
        "\n",
        "# Manually test specific input values\n",
        "and_not_test_input = np.array([[1, 0]])\n",
        "xor_test_input = np.array([[1, 0]])\n",
        "\n",
        "print(\"\\nAND-NOT Model Prediction for input [0, 1]:\")\n",
        "print(test_model(and_not_model, and_not_test_input))\n",
        "\n",
        "print(\"\\nXOR Model Prediction for input [1, 0]:\")\n",
        "print(test_model(xor_model, xor_test_input))\n"
      ],
      "metadata": {
        "id": "KQjfPunv8RBL",
        "outputId": "ddef9990-899d-45a4-d60b-0bd06a5ab697",
        "colab": {
          "base_uri": "https://localhost:8080/"
        }
      },
      "execution_count": 10,
      "outputs": [
        {
          "output_type": "stream",
          "name": "stdout",
          "text": [
            "AND-NOT Model Predictions on training data:\n",
            "1/1 [==============================] - 0s 81ms/step\n",
            "[0, 0, 1, 0]\n",
            "\n",
            "XOR Model Predictions on training data:\n",
            "1/1 [==============================] - 0s 87ms/step\n",
            "[0, 1, 1, 0]\n",
            "\n",
            "AND-NOT Model Prediction for input [1, 0]:\n",
            "1/1 [==============================] - 0s 30ms/step\n",
            "[0]\n",
            "\n",
            "XOR Model Prediction for input [1, 0]:\n",
            "1/1 [==============================] - 0s 30ms/step\n",
            "[1]\n"
          ]
        }
      ]
    },
    {
      "cell_type": "code",
      "source": [
        "# Manually test specific input values\n",
        "and_not_test_input = np.array([[1, 1]])\n",
        "xor_test_input = np.array([[0, 0]])\n",
        "\n",
        "print(\"\\nAND-NOT Model Prediction for input [0, 1]:\")\n",
        "print(test_model(and_not_model, and_not_test_input))\n",
        "\n",
        "print(\"\\nXOR Model Prediction for input [1, 0]:\")\n",
        "print(test_model(xor_model, xor_test_input))"
      ],
      "metadata": {
        "id": "RvUQKPmJLIYP",
        "outputId": "613035db-3a0a-4a69-d894-1a61ee02195a",
        "colab": {
          "base_uri": "https://localhost:8080/"
        }
      },
      "execution_count": 17,
      "outputs": [
        {
          "output_type": "stream",
          "name": "stdout",
          "text": [
            "\n",
            "AND-NOT Model Prediction for input [0, 1]:\n",
            "1/1 [==============================] - 0s 20ms/step\n",
            "[0]\n",
            "\n",
            "XOR Model Prediction for input [1, 0]:\n",
            "1/1 [==============================] - 0s 21ms/step\n",
            "[0]\n"
          ]
        }
      ]
    }
  ]
}