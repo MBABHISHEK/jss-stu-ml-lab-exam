{
  "nbformat": 4,
  "nbformat_minor": 0,
  "metadata": {
    "colab": {
      "provenance": [],
      "authorship_tag": "ABX9TyOl41m8cfa99/rXY3i0+q7z",
      "include_colab_link": true
    },
    "kernelspec": {
      "name": "python3",
      "display_name": "Python 3"
    },
    "language_info": {
      "name": "python"
    }
  },
  "cells": [
    {
      "cell_type": "markdown",
      "metadata": {
        "id": "view-in-github",
        "colab_type": "text"
      },
      "source": [
        "<a href=\"https://colab.research.google.com/github/MBABHISHEK/jss-stu-ml-lab-exam/blob/main/5/NBC.ipynb\" target=\"_parent\"><img src=\"https://colab.research.google.com/assets/colab-badge.svg\" alt=\"Open In Colab\"/></a>"
      ]
    },
    {
      "cell_type": "markdown",
      "source": [
        "# Without  sklearn"
      ],
      "metadata": {
        "id": "V3FhcagRjMdN"
      }
    },
    {
      "cell_type": "code",
      "execution_count": 4,
      "metadata": {
        "colab": {
          "base_uri": "https://localhost:8080/"
        },
        "id": "0jcWrj8nhmla",
        "outputId": "d45c1213-29cb-4f7b-bd8d-be9e71964197"
      },
      "outputs": [
        {
          "output_type": "stream",
          "name": "stderr",
          "text": [
            "<ipython-input-4-740f8d333d24>:16: RuntimeWarning: divide by zero encountered in scalar divide\n",
            "  exponent = np.exp(-((x - mean) ** 2 / (2 * std ** 2)))\n",
            "<ipython-input-4-740f8d333d24>:17: RuntimeWarning: divide by zero encountered in scalar divide\n",
            "  return (1 / (np.sqrt(2 * np.pi) * std)) * exponent\n",
            "<ipython-input-4-740f8d333d24>:17: RuntimeWarning: invalid value encountered in scalar multiply\n",
            "  return (1 / (np.sqrt(2 * np.pi) * std)) * exponent\n",
            "<ipython-input-4-740f8d333d24>:16: RuntimeWarning: invalid value encountered in scalar divide\n",
            "  exponent = np.exp(-((x - mean) ** 2 / (2 * std ** 2)))\n"
          ]
        },
        {
          "output_type": "stream",
          "name": "stdout",
          "text": [
            "Confusion Matrix:\n",
            " [[105   0]\n",
            " [ 74   0]]\n",
            "Accuracy: 0.5865921787709497\n"
          ]
        }
      ],
      "source": [
        "import numpy as np\n",
        "import pandas as pd\n",
        "from sklearn.metrics import confusion_matrix, accuracy_score\n",
        "from sklearn.model_selection import train_test_split\n",
        "\n",
        "def calculate_prior(df, Y):\n",
        "    # Calculate the prior probabilities P(Y)\n",
        "    classes = sorted(list(df[Y].unique()))\n",
        "    prior = [np.mean(df[Y] == c) for c in classes]\n",
        "    return prior\n",
        "\n",
        "def calculate_likelihood_gaussian(df, feature, x, Y, c):\n",
        "    # Calculate the Gaussian likelihood P(X|Y)\n",
        "    mean = df[feature][df[Y] == c].mean()\n",
        "    std = df[feature][df[Y] == c].std()\n",
        "    exponent = np.exp(-((x - mean) ** 2 / (2 * std ** 2)))\n",
        "    return (1 / (np.sqrt(2 * np.pi) * std)) * exponent\n",
        "\n",
        "def naive_bayes_gaussian(df, X, Y):\n",
        "    # Get feature names\n",
        "    features = list(df.columns)[:-1]\n",
        "\n",
        "    # Calculate prior probabilities\n",
        "    prior = calculate_prior(df, Y)\n",
        "\n",
        "    Y_pred = []\n",
        "    # Loop over every data sample\n",
        "    for x in X:\n",
        "        # Calculate likelihood\n",
        "        labels = sorted(list(df[Y].unique()))\n",
        "        likelihood = [1] * len(labels)\n",
        "        for j in range(len(labels)):\n",
        "            for i in range(len(features)):\n",
        "                likelihood[j] *= calculate_likelihood_gaussian(df, features[i], x[i], Y, labels[j])\n",
        "\n",
        "        # Calculate posterior probability (numerator only)\n",
        "        post_prob = [1] * len(labels)\n",
        "        for j in range(len(labels)):\n",
        "            post_prob[j] = likelihood[j] * prior[j]\n",
        "\n",
        "        Y_pred.append(np.argmax(post_prob))\n",
        "\n",
        "    return np.array(Y_pred)\n",
        "\n",
        "# Example usage\n",
        "# Load your dataset (adjust the path to your actual CSV file)\n",
        "df = pd.read_csv('titanic.csv')\n",
        "\n",
        "# Select relevant columns\n",
        "df = df[['Survived', 'Pclass', 'Age', 'SibSp', 'Parch', 'Fare', 'Embarked']]\n",
        "\n",
        "# Handle missing values\n",
        "from sklearn.impute import SimpleImputer\n",
        "imputer = SimpleImputer(strategy='median')\n",
        "df[['Age', 'Fare']] = imputer.fit_transform(df[['Age', 'Fare']])\n",
        "df['Embarked'].fillna(df['Embarked'].mode()[0], inplace=True)\n",
        "\n",
        "# Encode categorical variables\n",
        "from sklearn.preprocessing import LabelEncoder\n",
        "df['Embarked'] = LabelEncoder().fit_transform(df['Embarked'])\n",
        "\n",
        "# Split the data into train and test sets\n",
        "X = df.drop('Survived', axis=1)\n",
        "y = df['Survived']\n",
        "X_train, X_test, y_train, y_test = train_test_split(X, y, test_size=0.2, random_state=42)\n",
        "\n",
        "# Convert to numpy array for iteration\n",
        "X_train_np = X_train.values\n",
        "X_test_np = X_test.values\n",
        "\n",
        "# Train the model\n",
        "predictions_train = naive_bayes_gaussian(df.iloc[:len(X_train)], X_train_np, 'Survived')\n",
        "\n",
        "# Predict the classes for the test set\n",
        "predictions_test = naive_bayes_gaussian(df.iloc[len(X_train):], X_test_np, 'Survived')\n",
        "\n",
        "# Evaluate the model\n",
        "accuracy = accuracy_score(y_test, predictions_test)\n",
        "cm = confusion_matrix(y_test, predictions_test)\n",
        "\n",
        "print(\"Confusion Matrix:\\n\", cm)\n",
        "print(\"Accuracy:\", accuracy)\n"
      ]
    },
    {
      "cell_type": "markdown",
      "source": [
        "# With sklearn"
      ],
      "metadata": {
        "id": "R5zVp693jD0d"
      }
    },
    {
      "cell_type": "code",
      "source": [
        "import numpy as np\n",
        "import pandas as pd\n",
        "from sklearn.metrics import confusion_matrix, accuracy_score\n",
        "from sklearn.model_selection import train_test_split\n",
        "from sklearn.naive_bayes import GaussianNB\n",
        "from sklearn.impute import SimpleImputer\n",
        "from sklearn.preprocessing import LabelEncoder\n",
        "# Load the dataset\n",
        "df = pd.read_csv('titanic.csv')\n",
        "df = df[['Survived', 'Pclass', 'Age', 'SibSp', 'Parch', 'Fare', 'Embarked']]\n",
        "# Handle missing values\n",
        "imputer = SimpleImputer(strategy='median')\n",
        "df[['Age', 'Fare']] = imputer.fit_transform(df[['Age', 'Fare']])\n",
        "df['Embarked'].fillna(df['Embarked'].mode()[0], inplace=True)\n",
        "df['Embarked'] = LabelEncoder().fit_transform(df['Embarked'])\n",
        "# Split the data into train and test sets\n",
        "X = df.drop('Survived', axis=1)\n",
        "y = df['Survived']\n",
        "X_train, X_test, y_train, y_test = train_test_split(X, y, test_size=0.2, random_state=42)\n",
        "# Initialize and fit the Gaussian Naive Bayes classifier\n",
        "classifier = GaussianNB()\n",
        "classifier.fit(X_train, y_train)\n",
        "# Make predictions on the test set\n",
        "y_pred = classifier.predict(X_test)\n",
        "# Evaluate the model\n",
        "cm = confusion_matrix(y_test, y_pred)\n",
        "print(\"Confusion Matrix:\\n\", cm)\n",
        "accuracy = accuracy_score(y_test, y_pred)\n",
        "print(\"Accuracy:\", accuracy)"
      ],
      "metadata": {
        "colab": {
          "base_uri": "https://localhost:8080/"
        },
        "id": "alhIZu8ginQv",
        "outputId": "b4927fe6-71f1-43dc-ed08-18c22e1f8aba"
      },
      "execution_count": 3,
      "outputs": [
        {
          "output_type": "stream",
          "name": "stdout",
          "text": [
            "Confusion Matrix:\n",
            " [[86 19]\n",
            " [37 37]]\n",
            "Accuracy: 0.6871508379888268\n"
          ]
        }
      ]
    }
  ]
}