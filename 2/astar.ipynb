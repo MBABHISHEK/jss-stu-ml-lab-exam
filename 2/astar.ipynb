{
  "nbformat": 4,
  "nbformat_minor": 0,
  "metadata": {
    "colab": {
      "provenance": [],
      "authorship_tag": "ABX9TyN2xbbYYKFhwY4BFEQNoOZu",
      "include_colab_link": true
    },
    "kernelspec": {
      "name": "python3",
      "display_name": "Python 3"
    },
    "language_info": {
      "name": "python"
    }
  },
  "cells": [
    {
      "cell_type": "markdown",
      "metadata": {
        "id": "view-in-github",
        "colab_type": "text"
      },
      "source": [
        "<a href=\"https://colab.research.google.com/github/MBABHISHEK/jss-stu-ml-lab-exam/blob/main/2/astar.ipynb\" target=\"_parent\"><img src=\"https://colab.research.google.com/assets/colab-badge.svg\" alt=\"Open In Colab\"/></a>"
      ]
    },
    {
      "cell_type": "code",
      "execution_count": 1,
      "metadata": {
        "colab": {
          "base_uri": "https://localhost:8080/"
        },
        "id": "Vi5geIMaTZMf",
        "outputId": "779947fe-2329-49bf-fd78-74196ab02634"
      },
      "outputs": [
        {
          "output_type": "stream",
          "name": "stdout",
          "text": [
            "A* Search Path: ['A', 'B', 'D']\n"
          ]
        }
      ],
      "source": [
        "import heapq\n",
        "\n",
        "def a_star_search(graph, start, goal, heuristic, cost):\n",
        "    # Priority queue for exploring nodes\n",
        "    priority_queue = []\n",
        "    heapq.heappush(priority_queue, (0 + heuristic[start], start))\n",
        "    visited = set()\n",
        "    g_cost = {start: 0}\n",
        "    parent = {start: None}\n",
        "\n",
        "    while priority_queue:\n",
        "        current_cost, current_node = heapq.heappop(priority_queue)\n",
        "\n",
        "        if current_node in visited:\n",
        "            continue\n",
        "\n",
        "        visited.add(current_node)\n",
        "\n",
        "        if current_node == goal:\n",
        "            break\n",
        "\n",
        "        for neighbor in graph[current_node]:\n",
        "            new_cost = g_cost[current_node] + cost[(current_node, neighbor)]\n",
        "            if neighbor not in g_cost or new_cost < g_cost[neighbor]:\n",
        "                g_cost[neighbor] = new_cost\n",
        "                f_cost = new_cost + heuristic[neighbor]\n",
        "                heapq.heappush(priority_queue, (f_cost, neighbor))\n",
        "                parent[neighbor] = current_node\n",
        "\n",
        "    path = []\n",
        "    node = goal\n",
        "    while node is not None:\n",
        "        path.append(node)\n",
        "        node = parent[node]\n",
        "    path.reverse()\n",
        "\n",
        "    return path\n",
        "\n",
        "# Example graph\n",
        "graph = {\n",
        "    'A': ['B', 'C'],\n",
        "    'B': ['D', 'E'],\n",
        "    'C': ['F', 'G'],\n",
        "    'D': [],\n",
        "    'E': [],\n",
        "    'F': [],\n",
        "    'G': []\n",
        "}\n",
        "\n",
        "# Example heuristic values (assumed for demonstration)\n",
        "heuristic = {\n",
        "    'A': 6,\n",
        "    'B': 4,\n",
        "    'C': 4,\n",
        "    'D': 0,\n",
        "    'E': 2,\n",
        "    'F': 3,\n",
        "    'G': 1\n",
        "}\n",
        "\n",
        "# Example costs between nodes (assumed for demonstration)\n",
        "cost = {\n",
        "    ('A', 'B'): 1,\n",
        "    ('A', 'C'): 1,\n",
        "    ('B', 'D'): 1,\n",
        "    ('B', 'E'): 3,\n",
        "    ('C', 'F'): 5,\n",
        "    ('C', 'G'): 2\n",
        "}\n",
        "\n",
        "start = 'A'\n",
        "goal = 'D'\n",
        "\n",
        "path = a_star_search(graph, start, goal, heuristic, cost)\n",
        "print(\"A* Search Path:\", path)"
      ]
    }
  ]
}