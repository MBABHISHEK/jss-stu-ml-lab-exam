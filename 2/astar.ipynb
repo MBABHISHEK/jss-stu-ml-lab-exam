{
  "nbformat": 4,
  "nbformat_minor": 0,
  "metadata": {
    "colab": {
      "provenance": [],
      "authorship_tag": "ABX9TyOMu1XbLmvIYIP6N6qtM2Ka",
      "include_colab_link": true
    },
    "kernelspec": {
      "name": "python3",
      "display_name": "Python 3"
    },
    "language_info": {
      "name": "python"
    }
  },
  "cells": [
    {
      "cell_type": "markdown",
      "metadata": {
        "id": "view-in-github",
        "colab_type": "text"
      },
      "source": [
        "<a href=\"https://colab.research.google.com/github/MBABHISHEK/jss-stu-ml-lab-exam/blob/main/2/astar.ipynb\" target=\"_parent\"><img src=\"https://colab.research.google.com/assets/colab-badge.svg\" alt=\"Open In Colab\"/></a>"
      ]
    },
    {
      "cell_type": "code",
      "execution_count": null,
      "metadata": {
        "colab": {
          "base_uri": "https://localhost:8080/"
        },
        "id": "Vi5geIMaTZMf",
        "outputId": "283d744d-27a1-4931-d32a-0d8db1ed1ca8"
      },
      "outputs": [
        {
          "output_type": "stream",
          "name": "stdout",
          "text": [
            "Path found:->A->B->D->E"
          ]
        }
      ],
      "source": [
        "import heapq\n",
        "\n",
        "class Node:\n",
        "    def __init__(self, position, parent=None):\n",
        "        self.position = position\n",
        "        self.parent = parent\n",
        "        self.g = 0  # Cost from start node to current node\n",
        "        self.h = 0  # Heuristic (estimated) cost from current node to goal node\n",
        "        self.f = 0  # Total cost (g + h)\n",
        "\n",
        "    def __lt__(self, other):\n",
        "        return self.f < other.f\n",
        "\n",
        "def astar_search(graph, start, goal, heuristic):\n",
        "    open_list = []\n",
        "    closed_set = set()\n",
        "\n",
        "    start_node = Node(start)\n",
        "    goal_node = Node(goal)\n",
        "    heapq.heappush(open_list, start_node)\n",
        "\n",
        "    while open_list:\n",
        "        current_node = heapq.heappop(open_list)\n",
        "        closed_set.add(current_node.position)\n",
        "\n",
        "        if current_node.position == goal_node.position:\n",
        "            path=[]\n",
        "            while current_node:\n",
        "                path.append(current_node.position)\n",
        "                current_node=current_node.parent\n",
        "            return path[::-1]\n",
        "\n",
        "        neighbors = graph[current_node.position]\n",
        "\n",
        "        for neighbor in neighbors:\n",
        "            neighbor_node = Node(neighbor, current_node)\n",
        "            if neighbor in closed_set:\n",
        "                continue\n",
        "\n",
        "            neighbor_node.g = current_node.g + 1\n",
        "            neighbor_node.h = heuristic[neighbor]\n",
        "            neighbor_node.f = neighbor_node.g + neighbor_node.h\n",
        "\n",
        "            heapq.heappush(open_list, neighbor_node)\n",
        "\n",
        "    return []\n",
        "\n",
        "# Example usage:\n",
        "graph = {\n",
        "    'A': ['B', 'C'],\n",
        "    'B': ['A', 'C', 'D'],\n",
        "    'C': ['A', 'B', 'D'],\n",
        "    'D': ['B', 'C', 'E'],\n",
        "    'E': ['D']\n",
        "}\n",
        "\n",
        "start = 'A'\n",
        "goal = 'E'\n",
        "\n",
        "heuristic = {\n",
        "    'A': 4,\n",
        "    'B': 2,\n",
        "    'C': 3,\n",
        "    'D': 1,\n",
        "    'E': 0\n",
        "}\n",
        "\n",
        "path = astar_search(graph, start, goal, heuristic)\n",
        "\n",
        "if path:\n",
        "    print(\"Path found:\",end=\"\")\n",
        "    for i in path:\n",
        "        print(\"->\",end=\"\")\n",
        "        print(i,end=\"\")\n",
        "else:\n",
        "    print(\"No path found.\")"
      ]
    }
  ]
}