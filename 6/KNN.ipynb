{
  "nbformat": 4,
  "nbformat_minor": 0,
  "metadata": {
    "colab": {
      "provenance": [],
      "authorship_tag": "ABX9TyNkLfzUZ2owL2G1yKUvN2EH",
      "include_colab_link": true
    },
    "kernelspec": {
      "name": "python3",
      "display_name": "Python 3"
    },
    "language_info": {
      "name": "python"
    }
  },
  "cells": [
    {
      "cell_type": "markdown",
      "metadata": {
        "id": "view-in-github",
        "colab_type": "text"
      },
      "source": [
        "<a href=\"https://colab.research.google.com/github/MBABHISHEK/jss-stu-ml-lab-exam/blob/main/6/KNN.ipynb\" target=\"_parent\"><img src=\"https://colab.research.google.com/assets/colab-badge.svg\" alt=\"Open In Colab\"/></a>"
      ]
    },
    {
      "cell_type": "markdown",
      "source": [
        "#KNN"
      ],
      "metadata": {
        "id": "WvyJPJFQut8c"
      }
    },
    {
      "cell_type": "code",
      "execution_count": 3,
      "metadata": {
        "colab": {
          "base_uri": "https://localhost:8080/"
        },
        "id": "jTznBWJrtnn3",
        "outputId": "8871ee72-c3e1-49dc-92cb-8cd3f320f6b7"
      },
      "outputs": [
        {
          "output_type": "stream",
          "name": "stdout",
          "text": [
            "Accuracy with Euclidean distance (without sklearn): 0.676923076923077\n",
            "Accuracy with Manhattan distance (without sklearn): 0.6615384615384615\n"
          ]
        }
      ],
      "source": [
        "import numpy as np\n",
        "import pandas as pd\n",
        "from collections import Counter\n",
        "from sklearn.model_selection import train_test_split\n",
        "\n",
        "\n",
        "def euclidean_distance(x1, x2):\n",
        "  return np.sqrt(np.sum((x1 - x2) ** 2))\n",
        "\n",
        "def manhattan_distance(x1, x2):\n",
        " return np.sum(np.abs(x1 - x2))\n",
        "\n",
        "class KNN:\n",
        "  def __init__(self, k, distance_fn):\n",
        "    self.k = k\n",
        "    self.distance_fn = distance_fn\n",
        "\n",
        "  def fit(self, X, y):\n",
        "    self.X_train = X\n",
        "    self.y_train = y\n",
        "\n",
        "  def predict(self, X):\n",
        "    predictions = [self._predict(x) for x in X]\n",
        "    return predictions\n",
        "\n",
        "  def _predict(self, x):\n",
        "    distances = [self.distance_fn(x, x_train) for x_train in self.X_train]\n",
        "    k_indices = np.argsort(distances)[:self.k]\n",
        "    k_nearest_labels = [self.y_train[i] for i in k_indices]\n",
        "    most_common = Counter(k_nearest_labels).most_common()\n",
        "    return most_common[0][0]\n",
        "\n",
        "df = pd.read_csv('glass.csv')\n",
        "y = df['Type'].values\n",
        "X = df.drop('Type', axis=1).values\n",
        "X_train, X_test, y_train, y_test = train_test_split(X, y, test_size=0.3)\n",
        "\n",
        "# KNN with Euclidean distance\n",
        "clf_euclidean = KNN(k=3, distance_fn=euclidean_distance)\n",
        "clf_euclidean.fit(X_train, y_train)\n",
        "predictions_euclidean = clf_euclidean.predict(X_test)\n",
        "accuracy_euclidean = np.sum(predictions_euclidean == y_test) / len(y_test)\n",
        "print(\"Accuracy with Euclidean distance (without sklearn):\", accuracy_euclidean)\n",
        "\n",
        "# KNN with Manhattan distance\n",
        "clf_manhattan = KNN(k=3, distance_fn=manhattan_distance)\n",
        "clf_manhattan.fit(X_train, y_train)\n",
        "predictions_manhattan = clf_manhattan.predict(X_test)\n",
        "accuracy_manhattan = np.sum(predictions_manhattan == y_test) / len(y_test)\n",
        "print(\"Accuracy with Manhattan distance (without sklearn):\", accuracy_manhattan)"
      ]
    }
  ]
}