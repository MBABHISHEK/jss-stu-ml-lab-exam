{
  "nbformat": 4,
  "nbformat_minor": 0,
  "metadata": {
    "colab": {
      "provenance": [],
      "authorship_tag": "ABX9TyOgS1zp4YoyZbDqilBtQR7a",
      "include_colab_link": true
    },
    "kernelspec": {
      "name": "python3",
      "display_name": "Python 3"
    },
    "language_info": {
      "name": "python"
    }
  },
  "cells": [
    {
      "cell_type": "markdown",
      "metadata": {
        "id": "view-in-github",
        "colab_type": "text"
      },
      "source": [
        "<a href=\"https://colab.research.google.com/github/MBABHISHEK/jss-stu-ml-lab-exam/blob/main/3/minmax.ipynb\" target=\"_parent\"><img src=\"https://colab.research.google.com/assets/colab-badge.svg\" alt=\"Open In Colab\"/></a>"
      ]
    },
    {
      "cell_type": "code",
      "execution_count": 1,
      "metadata": {
        "colab": {
          "base_uri": "https://localhost:8080/"
        },
        "id": "Vi5geIMaTZMf",
        "outputId": "11f47520-4615-4c39-b1b4-6dd0fe70bc52"
      },
      "outputs": [
        {
          "output_type": "stream",
          "name": "stdout",
          "text": [
            "The optimal value is: 12\n",
            "The path taken is: [0, 1, 2, 4]\n"
          ]
        }
      ],
      "source": [
        "def minmax(depth, nodeIndex, maximizingPlayer, values, alpha, beta, path):\n",
        "    if depth == 3:\n",
        "        return values[nodeIndex], path + [nodeIndex]\n",
        "\n",
        "    if maximizingPlayer:\n",
        "        best = float('-inf')\n",
        "        best_path = []\n",
        "        for i in range(2):\n",
        "            val, new_path = minmax(depth + 1, nodeIndex * 2 + i, False, values, alpha, beta, path + [nodeIndex])\n",
        "            if val > best:\n",
        "                best = val\n",
        "                best_path = new_path\n",
        "        return best, best_path\n",
        "    else:\n",
        "        best = float('inf')\n",
        "        best_path = []\n",
        "        for i in range(2):\n",
        "            val, new_path = minmax(depth + 1, nodeIndex * 2 + i, True, values, alpha, beta, path + [nodeIndex])\n",
        "            if val < best:\n",
        "                best = val\n",
        "                best_path = new_path\n",
        "        return best, best_path\n",
        "\n",
        "# Example tree with depth 3 and 8 terminal nodes\n",
        "values = [3, 5, 2, 9, 12, 5, 23, 23]\n",
        "\n",
        "# Start the Min-Max algorithm\n",
        "optimal_value, optimal_path = minmax(0, 0, True, values, float('-inf'), float('inf'), [])\n",
        "print(\"The optimal value is:\", optimal_value)\n",
        "print(\"The path taken is:\", optimal_path)"
      ]
    }
  ]
}