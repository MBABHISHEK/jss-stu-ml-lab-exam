{
  "nbformat": 4,
  "nbformat_minor": 0,
  "metadata": {
    "colab": {
      "provenance": [],
      "authorship_tag": "ABX9TyOavsJXXyMRwHoQYKfDnkRM",
      "include_colab_link": true
    },
    "kernelspec": {
      "name": "python3",
      "display_name": "Python 3"
    },
    "language_info": {
      "name": "python"
    }
  },
  "cells": [
    {
      "cell_type": "markdown",
      "metadata": {
        "id": "view-in-github",
        "colab_type": "text"
      },
      "source": [
        "<a href=\"https://colab.research.google.com/github/MBABHISHEK/jss-stu-ml-lab-exam/blob/main/3/minmax.ipynb\" target=\"_parent\"><img src=\"https://colab.research.google.com/assets/colab-badge.svg\" alt=\"Open In Colab\"/></a>"
      ]
    },
    {
      "cell_type": "code",
      "execution_count": 2,
      "metadata": {
        "colab": {
          "base_uri": "https://localhost:8080/"
        },
        "id": "Vi5geIMaTZMf",
        "outputId": "79e4ffbb-2311-4c9b-c8a4-d9189bcabb8b"
      },
      "outputs": [
        {
          "output_type": "stream",
          "name": "stdout",
          "text": [
            "8\n",
            "[0, 0, 8]\n"
          ]
        }
      ],
      "source": [
        "class Tree:\n",
        "    def __init__(self,value,children=[]):\n",
        "        self.value=value\n",
        "        self.children=children\n",
        "\n",
        "game_tree=Tree(0,\n",
        "[\n",
        "    Tree(0,\n",
        "    [Tree(3),Tree(12)]\n",
        "    ),\n",
        "    Tree(0,\n",
        "    [Tree(8),Tree(2)]\n",
        "    ),\n",
        "])\n",
        "\n",
        "def minmax(tree,depth,max_player):\n",
        "    if(depth==0 or not tree.children):\n",
        "        return tree.value,[tree.value]\n",
        "    if(max_player):\n",
        "        max_value=float(\"-inf\")\n",
        "        max_path=[]\n",
        "        for child in tree.children:\n",
        "            child_value,child_path=minmax(child,depth-1,False)\n",
        "            if(child_value>max_value):\n",
        "                max_value=child_value\n",
        "                max_path=[tree.value]+child_path\n",
        "        return max_value,max_path\n",
        "    else:\n",
        "        min_value=float(\"inf\")\n",
        "        min_path=[]\n",
        "        for child in tree.children:\n",
        "            child_value,child_path=minmax(child,depth-1,True)\n",
        "            if(child_value<min_value):\n",
        "                min_value=child_value\n",
        "                min_path=[tree.value]+child_path\n",
        "        return min_value,min_path\n",
        "\n",
        "val,path=minmax(game_tree,2,False)\n",
        "print(val)\n",
        "print(path)"
      ]
    }
  ]
}