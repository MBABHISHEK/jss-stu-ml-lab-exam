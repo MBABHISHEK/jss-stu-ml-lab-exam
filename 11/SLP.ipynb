{
  "nbformat": 4,
  "nbformat_minor": 0,
  "metadata": {
    "colab": {
      "provenance": [],
      "authorship_tag": "ABX9TyNmrclLRPNxDkUu6zfIXeYG",
      "include_colab_link": true
    },
    "kernelspec": {
      "name": "python3",
      "display_name": "Python 3"
    },
    "language_info": {
      "name": "python"
    }
  },
  "cells": [
    {
      "cell_type": "markdown",
      "metadata": {
        "id": "view-in-github",
        "colab_type": "text"
      },
      "source": [
        "<a href=\"https://colab.research.google.com/github/MBABHISHEK/jss-stu-ml-lab-exam/blob/main/11/SLP.ipynb\" target=\"_parent\"><img src=\"https://colab.research.google.com/assets/colab-badge.svg\" alt=\"Open In Colab\"/></a>"
      ]
    },
    {
      "cell_type": "markdown",
      "source": [
        "# Single Layer Perceptron"
      ],
      "metadata": {
        "id": "WaUO1t4wyHwo"
      }
    },
    {
      "cell_type": "code",
      "source": [
        "import numpy as np\n",
        "from keras.models import Sequential\n",
        "from keras.layers import Dense\n",
        "from keras.optimizers import Adam\n",
        "import warnings\n",
        "warnings.filterwarnings(\"ignore\", category=UserWarning, module='keras')\n",
        "\n",
        "# Define the training data for AND function\n",
        "X_and = np.array([[0, 0], [0, 1], [1, 0], [1, 1]])\n",
        "y_and = np.array([0, 0, 0, 1])\n",
        "\n",
        "# Define the training data for OR function\n",
        "X_or = np.array([[0, 0], [0, 1], [1, 0], [1, 1]])\n",
        "y_or = np.array([0, 1, 1, 1])\n",
        "\n",
        "# Function to create and train a perceptron model\n",
        "def create_and_train_model(inputs, labels, epochs=1000, learning_rate=0.01):\n",
        "    model = Sequential([\n",
        "        Dense(1, input_dim=2, activation='sigmoid')  # Single-layer perceptron\n",
        "    ])\n",
        "    optimizer = Adam(learning_rate=learning_rate)\n",
        "    model.compile(loss='binary_crossentropy', optimizer=optimizer, metrics=['accuracy'])\n",
        "    model.fit(inputs, labels, epochs=epochs, verbose=0)\n",
        "    return model\n",
        "\n",
        "# Train the perceptron for AND function\n",
        "model_and = create_and_train_model(X_and, y_and)\n",
        "\n",
        "# Train the perceptron for OR function\n",
        "model_or = create_and_train_model(X_or, y_or)\n",
        "\n",
        "# Function to test the model with specific inputs\n",
        "def test_model(model, inputs):\n",
        "    predictions = model.predict(inputs)\n",
        "    predictions = [round(pred[0]) for pred in predictions]\n",
        "    return predictions\n",
        "\n",
        "# Print training results\n",
        "print(\"AND Function Predictions:\")\n",
        "print(test_model(model_and, X_and))\n",
        "\n",
        "print(\"\\nOR Function Predictions:\")\n",
        "print(test_model(model_or, X_or))\n",
        "\n",
        "# Manually test specific input values\n",
        "and_test_input = np.array([[1, 1]])\n",
        "or_test_input = np.array([[0, 1]])\n",
        "\n",
        "print(\"\\nAND Function Prediction for input [1, 1]:\")\n",
        "print(test_model(model_and, and_test_input))\n",
        "\n",
        "print(\"\\nOR Function Prediction for input [0, 1]:\")\n",
        "print(test_model(model_or, or_test_input))\n"
      ],
      "metadata": {
        "id": "1REJ6LXs51qi",
        "outputId": "326e0d80-6ed1-44eb-f212-20d5b1e2eb76",
        "colab": {
          "base_uri": "https://localhost:8080/"
        }
      },
      "execution_count": 5,
      "outputs": [
        {
          "output_type": "stream",
          "name": "stdout",
          "text": [
            "AND Function Predictions:\n",
            "1/1 [==============================] - 0s 52ms/step\n",
            "[0, 0, 0, 1]\n",
            "\n",
            "OR Function Predictions:\n",
            "1/1 [==============================] - 0s 57ms/step\n",
            "[0, 1, 1, 1]\n",
            "\n",
            "AND Function Prediction for input [1, 1]:\n",
            "1/1 [==============================] - 0s 24ms/step\n",
            "[1]\n",
            "\n",
            "OR Function Prediction for input [0, 1]:\n",
            "1/1 [==============================] - 0s 20ms/step\n",
            "[1]\n"
          ]
        }
      ]
    }
  ]
}