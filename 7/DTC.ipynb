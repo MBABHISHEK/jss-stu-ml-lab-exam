{
  "nbformat": 4,
  "nbformat_minor": 0,
  "metadata": {
    "colab": {
      "provenance": [],
      "authorship_tag": "ABX9TyOTggO8xMPiUYcHCoEqkKjS",
      "include_colab_link": true
    },
    "kernelspec": {
      "name": "python3",
      "display_name": "Python 3"
    },
    "language_info": {
      "name": "python"
    }
  },
  "cells": [
    {
      "cell_type": "markdown",
      "metadata": {
        "id": "view-in-github",
        "colab_type": "text"
      },
      "source": [
        "<a href=\"https://colab.research.google.com/github/MBABHISHEK/jss-stu-ml-lab-exam/blob/main/7/DTC.ipynb\" target=\"_parent\"><img src=\"https://colab.research.google.com/assets/colab-badge.svg\" alt=\"Open In Colab\"/></a>"
      ]
    },
    {
      "cell_type": "code",
      "execution_count": 3,
      "metadata": {
        "colab": {
          "base_uri": "https://localhost:8080/"
        },
        "id": "AkZBzWUa_8WV",
        "outputId": "9688ff95-f2b8-44ec-f02b-df2d6bbbb724"
      },
      "outputs": [
        {
          "output_type": "stream",
          "name": "stdout",
          "text": [
            "1095\n",
            "1064\n"
          ]
        },
        {
          "output_type": "execute_result",
          "data": {
            "text/plain": [
              "90.05681818181817"
            ]
          },
          "metadata": {},
          "execution_count": 3
        }
      ],
      "source": [
        "import pandas as pd\n",
        "from sklearn.metrics import accuracy_score\n",
        "from sklearn.model_selection import train_test_split\n",
        "from sklearn.tree import DecisionTreeClassifier\n",
        "\n",
        "data = pd.read_csv('./daily_weather.csv')\n",
        "\n",
        "data.columns\n",
        "data[data.isnull().any(axis=1)].head()\n",
        "del data['number']\n",
        "\n",
        "before_rows = data.shape[0]\n",
        "print(before_rows)\n",
        "\n",
        "data = data.dropna()\n",
        "after_rows = data.shape[0]\n",
        "print(after_rows)\n",
        "before_rows - after_rows\n",
        "clean_data = data.copy()\n",
        "clean_data['high_humidity_label'] = (clean_data['relative_humidity_3pm'] >24.99) *1\n",
        "clean_data['high_humidity_label'].head()\n",
        "y = clean_data[['high_humidity_label']].copy()\n",
        "y.head()\n",
        "clean_data['relative_humidity_3pm'].head()\n",
        "y.head()\n",
        "\n",
        "morning_features = ['air_pressure_9am', 'air_temp_9am', 'avg_wind_direction_9am',\n",
        "       'avg_wind_speed_9am', 'max_wind_direction_9am', 'max_wind_speed_9am',\n",
        "       'rain_accumulation_9am', 'rain_duration_9am', 'relative_humidity_9am']\n",
        "\n",
        "x=clean_data[morning_features].copy()\n",
        "x.columns\n",
        "y.columns\n",
        "X_train,X_test,y_train,y_test = train_test_split(x,y,test_size=0.33,random_state=324)\n",
        "humidity_classifier = DecisionTreeClassifier(max_leaf_nodes=10,random_state=0)\n",
        "humidity_classifier.fit(X_train,y_train)\n",
        "\n",
        "y_predicted = humidity_classifier.predict(X_test)\n",
        "y_predicted[:10]\n",
        "y_test['high_humidity_label'][:10]\n",
        "accuracy_score(y_test,y_predicted)*100"
      ]
    }
  ]
}